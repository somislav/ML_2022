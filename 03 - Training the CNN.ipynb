{
 "cells": [
  {
   "cell_type": "code",
   "execution_count": 1,
   "id": "a5fd9806",
   "metadata": {},
   "outputs": [],
   "source": [
    "import numpy as np\n",
    "\n",
    "data = np.load('data.npy')\n",
    "target = np.load('target.npy')"
   ]
  },
  {
   "cell_type": "code",
   "execution_count": 2,
   "id": "245f9813",
   "metadata": {},
   "outputs": [],
   "source": [
    "import tensorflow as tf\n",
    "from tensorflow import keras"
   ]
  },
  {
   "cell_type": "code",
   "execution_count": 3,
   "id": "4148db40",
   "metadata": {},
   "outputs": [],
   "source": [
    "from keras.models import Sequential\n",
    "from keras.layers import Input, Dense, Dropout, Flatten\n",
    "from keras.layers import Conv2D, Activation, MaxPooling2D\n",
    "from keras.optimizers import Adam\n",
    "from keras.losses import CategoricalCrossentropy\n"
   ]
  },
  {
   "cell_type": "code",
   "execution_count": 4,
   "id": "29e6fd6b",
   "metadata": {},
   "outputs": [
    {
     "name": "stdout",
     "output_type": "stream",
     "text": [
      "Model: \"sequential\"\n",
      "_________________________________________________________________\n",
      " Layer (type)                Output Shape              Param #   \n",
      "=================================================================\n",
      " conv2d (Conv2D)             (None, 98, 98, 64)        640       \n",
      "                                                                 \n",
      " activation (Activation)     (None, 98, 98, 64)        0         \n",
      "                                                                 \n",
      " max_pooling2d (MaxPooling2D  (None, 49, 49, 64)       0         \n",
      " )                                                               \n",
      "                                                                 \n",
      " conv2d_1 (Conv2D)           (None, 47, 47, 32)        18464     \n",
      "                                                                 \n",
      " activation_1 (Activation)   (None, 47, 47, 32)        0         \n",
      "                                                                 \n",
      " max_pooling2d_1 (MaxPooling  (None, 23, 23, 32)       0         \n",
      " 2D)                                                             \n",
      "                                                                 \n",
      " flatten (Flatten)           (None, 16928)             0         \n",
      "                                                                 \n",
      " dropout (Dropout)           (None, 16928)             0         \n",
      "                                                                 \n",
      " dense (Dense)               (None, 128)               2166912   \n",
      "                                                                 \n",
      " dropout_1 (Dropout)         (None, 128)               0         \n",
      "                                                                 \n",
      " dense_1 (Dense)             (None, 64)                8256      \n",
      "                                                                 \n",
      " dropout_2 (Dropout)         (None, 64)                0         \n",
      "                                                                 \n",
      " dense_2 (Dense)             (None, 2)                 130       \n",
      "                                                                 \n",
      "=================================================================\n",
      "Total params: 2,194,402\n",
      "Trainable params: 2,194,402\n",
      "Non-trainable params: 0\n",
      "_________________________________________________________________\n"
     ]
    }
   ],
   "source": [
    "input_shape = data.shape[1:] # (50,50,1)\n",
    "model = Sequential()\n",
    "model.add(Input(shape=input_shape))\n",
    "\n",
    "model.add(Conv2D(64,(3,3)))\n",
    "model.add(Activation('relu'))\n",
    "model.add(MaxPooling2D(pool_size=(2,2)))\n",
    "\n",
    "model.add(Conv2D(32,(3,3)))\n",
    "model.add(Activation('relu'))\n",
    "model.add(MaxPooling2D(pool_size=(2,2)))\n",
    "\n",
    "model.add(Flatten())\n",
    "model.add(Dropout(0.5))\n",
    "model.add(Dense(128,activation='relu'))\n",
    "model.add(Dropout(0.5))\n",
    "model.add(Dense(64,activation='relu'))\n",
    "model.add(Dropout(0.5))\n",
    "model.add(Dense(2, input_dim=128, activation='softmax'))\n",
    "model.compile(loss=CategoricalCrossentropy(), optimizer=Adam(learning_rate=0.0001),metrics=['accuracy'])\n",
    "model.summary()"
   ]
  },
  {
   "cell_type": "code",
   "execution_count": 5,
   "id": "1a4064ac",
   "metadata": {},
   "outputs": [],
   "source": [
    "from sklearn.model_selection import train_test_split\n",
    "\n",
    "X_train, X_test, y_train, y_test = train_test_split(data,target, test_size=0.2)"
   ]
  },
  {
   "cell_type": "code",
   "execution_count": 6,
   "id": "742a507e",
   "metadata": {},
   "outputs": [],
   "source": [
    "epochs = 20\n",
    "batch_size=32"
   ]
  },
  {
   "cell_type": "code",
   "execution_count": 7,
   "id": "b630270e",
   "metadata": {},
   "outputs": [
    {
     "name": "stdout",
     "output_type": "stream",
     "text": [
      "Epoch 1/20\n",
      "43/43 [==============================] - 13s 279ms/step - loss: 0.5812 - accuracy: 0.7053 - val_loss: 0.4779 - val_accuracy: 0.7124\n",
      "Epoch 2/20\n",
      "43/43 [==============================] - 12s 272ms/step - loss: 0.4313 - accuracy: 0.7746 - val_loss: 0.2872 - val_accuracy: 0.9216\n",
      "Epoch 3/20\n",
      "43/43 [==============================] - 12s 272ms/step - loss: 0.2954 - accuracy: 0.8862 - val_loss: 0.1853 - val_accuracy: 0.9477\n",
      "Epoch 4/20\n",
      "43/43 [==============================] - 12s 285ms/step - loss: 0.1893 - accuracy: 0.9402 - val_loss: 0.1095 - val_accuracy: 0.9608\n",
      "Epoch 5/20\n",
      "43/43 [==============================] - 13s 309ms/step - loss: 0.1466 - accuracy: 0.9453 - val_loss: 0.0848 - val_accuracy: 0.9673\n",
      "Epoch 6/20\n",
      "43/43 [==============================] - 15s 341ms/step - loss: 0.1123 - accuracy: 0.9635 - val_loss: 0.0648 - val_accuracy: 0.9739\n",
      "Epoch 7/20\n",
      "43/43 [==============================] - 16s 366ms/step - loss: 0.1093 - accuracy: 0.9672 - val_loss: 0.0623 - val_accuracy: 0.9804\n",
      "Epoch 8/20\n",
      "43/43 [==============================] - 17s 391ms/step - loss: 0.0914 - accuracy: 0.9730 - val_loss: 0.0508 - val_accuracy: 0.9739\n",
      "Epoch 9/20\n",
      "43/43 [==============================] - 18s 409ms/step - loss: 0.0706 - accuracy: 0.9788 - val_loss: 0.0543 - val_accuracy: 0.9739\n",
      "Epoch 10/20\n",
      "43/43 [==============================] - 18s 419ms/step - loss: 0.0712 - accuracy: 0.9737 - val_loss: 0.0481 - val_accuracy: 0.9739\n",
      "Epoch 11/20\n",
      "43/43 [==============================] - 18s 429ms/step - loss: 0.0646 - accuracy: 0.9810 - val_loss: 0.0431 - val_accuracy: 0.9739\n",
      "Epoch 12/20\n",
      "43/43 [==============================] - 19s 439ms/step - loss: 0.0617 - accuracy: 0.9832 - val_loss: 0.0567 - val_accuracy: 0.9739\n",
      "Epoch 13/20\n",
      "43/43 [==============================] - 19s 444ms/step - loss: 0.0601 - accuracy: 0.9832 - val_loss: 0.0464 - val_accuracy: 0.9739\n",
      "Epoch 14/20\n",
      "43/43 [==============================] - 19s 447ms/step - loss: 0.0524 - accuracy: 0.9847 - val_loss: 0.0653 - val_accuracy: 0.9804\n",
      "Epoch 15/20\n",
      "43/43 [==============================] - 20s 455ms/step - loss: 0.0539 - accuracy: 0.9840 - val_loss: 0.0719 - val_accuracy: 0.9739\n",
      "Epoch 16/20\n",
      "43/43 [==============================] - 21s 479ms/step - loss: 0.0517 - accuracy: 0.9832 - val_loss: 0.0529 - val_accuracy: 0.9739\n",
      "Epoch 17/20\n",
      "43/43 [==============================] - 20s 467ms/step - loss: 0.0447 - accuracy: 0.9854 - val_loss: 0.0789 - val_accuracy: 0.9739\n",
      "Epoch 18/20\n",
      "43/43 [==============================] - 21s 490ms/step - loss: 0.0476 - accuracy: 0.9854 - val_loss: 0.0448 - val_accuracy: 0.9739\n",
      "Epoch 19/20\n",
      "43/43 [==============================] - 49s 1s/step - loss: 0.0353 - accuracy: 0.9905 - val_loss: 0.0426 - val_accuracy: 0.9739\n",
      "Epoch 20/20\n",
      "43/43 [==============================] - 34s 787ms/step - loss: 0.0405 - accuracy: 0.9891 - val_loss: 0.0377 - val_accuracy: 0.9739\n"
     ]
    }
   ],
   "source": [
    "history = model.fit(X_train, y_train, epochs=epochs, batch_size=batch_size, validation_split=0.1, verbose=1 )"
   ]
  },
  {
   "cell_type": "code",
   "execution_count": 8,
   "id": "f8f66564",
   "metadata": {},
   "outputs": [],
   "source": [
    "from matplotlib import pyplot as plt\n"
   ]
  },
  {
   "cell_type": "code",
   "execution_count": 11,
   "id": "b565d795",
   "metadata": {},
   "outputs": [
    {
     "data": {
      "image/png": "[encoded data removed]",
      "text/plain": [
       "<Figure size 432x288 with 1 Axes>"
      ]
     },
     "metadata": {
      "needs_background": "light"
     },
     "output_type": "display_data"
    }
   ],
   "source": [
    "plt.title('Loss')\n",
    "plt.xlabel('number of epochs')\n",
    "plt.xticks(np.arange(0,epochs))\n",
    "plt.ylabel('loss')\n",
    "plt.plot(np.arange(0, epochs), history.history['loss'],'r', label='training_loss')\n",
    "plt.plot(np.arange(0, epochs), history.history['val_loss'], label='validation_loss')\n",
    "plt.legend(loc='best')\n",
    "plt.show()"
   ]
  },
  {
   "cell_type": "code",
   "execution_count": 14,
   "id": "7fea5f79",
   "metadata": {},
   "outputs": [
    {
     "data": {
      "image/png": "[encoded data removed]",
      "text/plain": [
       "<Figure size 432x288 with 1 Axes>"
      ]
     },
     "metadata": {
      "needs_background": "light"
     },
     "output_type": "display_data"
    }
   ],
   "source": [
    "plt.title('Accuracy')\n",
    "plt.xlabel('number of epochs')\n",
    "plt.xticks(np.arange(0, epochs))\n",
    "plt.ylabel('Accuracy')\n",
    "plt.plot(np.arange(0, epochs), history.history['accuracy'],'r',label = 'training_accuracy')\n",
    "plt.plot(np.arange(0, epochs), history.history['val_accuracy'],label='validation_accuracy')\n",
    "plt.legend(loc='best')\n",
    "plt.show()"
   ]
  },
  {
   "cell_type": "markdown",
   "id": "c1ddf22c",
   "metadata": {},
   "source": [
    "# we see that we coud've stopped learning earlier, at 12th epoch"
   ]
  },
  {
   "cell_type": "code",
   "execution_count": 20,
   "id": "71689a79",
   "metadata": {},
   "outputs": [],
   "source": [
    "from tensorflow.keras.models import load_model"
   ]
  },
  {
   "cell_type": "code",
   "execution_count": 21,
   "id": "442e3af9",
   "metadata": {},
   "outputs": [],
   "source": [
    "model_path = 'covid19_classifier.h5'"
   ]
  },
  {
   "cell_type": "code",
   "execution_count": 22,
   "id": "6f56855c",
   "metadata": {},
   "outputs": [],
   "source": [
    "model.save(model_path)"
   ]
  },
  {
   "cell_type": "code",
   "execution_count": 23,
   "id": "a25a910b",
   "metadata": {},
   "outputs": [],
   "source": [
    "reloaded_model = load_model(model_path)"
   ]
  },
  {
   "cell_type": "code",
   "execution_count": 24,
   "id": "c20882f6",
   "metadata": {},
   "outputs": [
    {
     "data": {
      "text/plain": [
       "{'name': 'sequential',\n",
       " 'layers': [{'class_name': 'InputLayer',\n",
       "   'config': {'batch_input_shape': (None, 100, 100, 1),\n",
       "    'dtype': 'float32',\n",
       "    'sparse': False,\n",
       "    'ragged': False,\n",
       "    'name': 'input_1'}},\n",
       "  {'class_name': 'Conv2D',\n",
       "   'config': {'name': 'conv2d',\n",
       "    'trainable': True,\n",
       "    'dtype': 'float32',\n",
       "    'filters': 64,\n",
       "    'kernel_size': (3, 3),\n",
       "    'strides': (1, 1),\n",
       "    'padding': 'valid',\n",
       "    'data_format': 'channels_last',\n",
       "    'dilation_rate': (1, 1),\n",
       "    'groups': 1,\n",
       "    'activation': 'linear',\n",
       "    'use_bias': True,\n",
       "    'kernel_initializer': {'class_name': 'GlorotUniform',\n",
       "     'config': {'seed': None}},\n",
       "    'bias_initializer': {'class_name': 'Zeros', 'config': {}},\n",
       "    'kernel_regularizer': None,\n",
       "    'bias_regularizer': None,\n",
       "    'activity_regularizer': None,\n",
       "    'kernel_constraint': None,\n",
       "    'bias_constraint': None}},\n",
       "  {'class_name': 'Activation',\n",
       "   'config': {'name': 'activation',\n",
       "    'trainable': True,\n",
       "    'dtype': 'float32',\n",
       "    'activation': 'relu'}},\n",
       "  {'class_name': 'MaxPooling2D',\n",
       "   'config': {'name': 'max_pooling2d',\n",
       "    'trainable': True,\n",
       "    'dtype': 'float32',\n",
       "    'pool_size': (2, 2),\n",
       "    'padding': 'valid',\n",
       "    'strides': (2, 2),\n",
       "    'data_format': 'channels_last'}},\n",
       "  {'class_name': 'Conv2D',\n",
       "   'config': {'name': 'conv2d_1',\n",
       "    'trainable': True,\n",
       "    'dtype': 'float32',\n",
       "    'filters': 32,\n",
       "    'kernel_size': (3, 3),\n",
       "    'strides': (1, 1),\n",
       "    'padding': 'valid',\n",
       "    'data_format': 'channels_last',\n",
       "    'dilation_rate': (1, 1),\n",
       "    'groups': 1,\n",
       "    'activation': 'linear',\n",
       "    'use_bias': True,\n",
       "    'kernel_initializer': {'class_name': 'GlorotUniform',\n",
       "     'config': {'seed': None}},\n",
       "    'bias_initializer': {'class_name': 'Zeros', 'config': {}},\n",
       "    'kernel_regularizer': None,\n",
       "    'bias_regularizer': None,\n",
       "    'activity_regularizer': None,\n",
       "    'kernel_constraint': None,\n",
       "    'bias_constraint': None}},\n",
       "  {'class_name': 'Activation',\n",
       "   'config': {'name': 'activation_1',\n",
       "    'trainable': True,\n",
       "    'dtype': 'float32',\n",
       "    'activation': 'relu'}},\n",
       "  {'class_name': 'MaxPooling2D',\n",
       "   'config': {'name': 'max_pooling2d_1',\n",
       "    'trainable': True,\n",
       "    'dtype': 'float32',\n",
       "    'pool_size': (2, 2),\n",
       "    'padding': 'valid',\n",
       "    'strides': (2, 2),\n",
       "    'data_format': 'channels_last'}},\n",
       "  {'class_name': 'Flatten',\n",
       "   'config': {'name': 'flatten',\n",
       "    'trainable': True,\n",
       "    'dtype': 'float32',\n",
       "    'data_format': 'channels_last'}},\n",
       "  {'class_name': 'Dropout',\n",
       "   'config': {'name': 'dropout',\n",
       "    'trainable': True,\n",
       "    'dtype': 'float32',\n",
       "    'rate': 0.5,\n",
       "    'noise_shape': None,\n",
       "    'seed': None}},\n",
       "  {'class_name': 'Dense',\n",
       "   'config': {'name': 'dense',\n",
       "    'trainable': True,\n",
       "    'dtype': 'float32',\n",
       "    'units': 128,\n",
       "    'activation': 'relu',\n",
       "    'use_bias': True,\n",
       "    'kernel_initializer': {'class_name': 'GlorotUniform',\n",
       "     'config': {'seed': None}},\n",
       "    'bias_initializer': {'class_name': 'Zeros', 'config': {}},\n",
       "    'kernel_regularizer': None,\n",
       "    'bias_regularizer': None,\n",
       "    'activity_regularizer': None,\n",
       "    'kernel_constraint': None,\n",
       "    'bias_constraint': None}},\n",
       "  {'class_name': 'Dropout',\n",
       "   'config': {'name': 'dropout_1',\n",
       "    'trainable': True,\n",
       "    'dtype': 'float32',\n",
       "    'rate': 0.5,\n",
       "    'noise_shape': None,\n",
       "    'seed': None}},\n",
       "  {'class_name': 'Dense',\n",
       "   'config': {'name': 'dense_1',\n",
       "    'trainable': True,\n",
       "    'dtype': 'float32',\n",
       "    'units': 64,\n",
       "    'activation': 'relu',\n",
       "    'use_bias': True,\n",
       "    'kernel_initializer': {'class_name': 'GlorotUniform',\n",
       "     'config': {'seed': None}},\n",
       "    'bias_initializer': {'class_name': 'Zeros', 'config': {}},\n",
       "    'kernel_regularizer': None,\n",
       "    'bias_regularizer': None,\n",
       "    'activity_regularizer': None,\n",
       "    'kernel_constraint': None,\n",
       "    'bias_constraint': None}},\n",
       "  {'class_name': 'Dropout',\n",
       "   'config': {'name': 'dropout_2',\n",
       "    'trainable': True,\n",
       "    'dtype': 'float32',\n",
       "    'rate': 0.5,\n",
       "    'noise_shape': None,\n",
       "    'seed': None}},\n",
       "  {'class_name': 'Dense',\n",
       "   'config': {'name': 'dense_2',\n",
       "    'trainable': True,\n",
       "    'batch_input_shape': (None, 128),\n",
       "    'dtype': 'float32',\n",
       "    'units': 2,\n",
       "    'activation': 'softmax',\n",
       "    'use_bias': True,\n",
       "    'kernel_initializer': {'class_name': 'GlorotUniform',\n",
       "     'config': {'seed': None}},\n",
       "    'bias_initializer': {'class_name': 'Zeros', 'config': {}},\n",
       "    'kernel_regularizer': None,\n",
       "    'bias_regularizer': None,\n",
       "    'activity_regularizer': None,\n",
       "    'kernel_constraint': None,\n",
       "    'bias_constraint': None}}]}"
      ]
     },
     "execution_count": 24,
     "metadata": {},
     "output_type": "execute_result"
    }
   ],
   "source": [
    "reloaded_model.get_config()"
   ]
  },
  {
   "cell_type": "code",
   "execution_count": 34,
   "id": "cbeb8eeb",
   "metadata": {},
   "outputs": [
    {
     "name": "stdout",
     "output_type": "stream",
     "text": [
      "48/48 [==============================] - 3s 72ms/step - loss: 0.0209 - accuracy: 0.9928\n",
      "Train loss:  0.020927369594573975\n",
      "Test loss:  0.9927821755409241\n"
     ]
    }
   ],
   "source": [
    "train_scores = reloaded_model.evaluate(X_train,y_train)\n",
    "print('Train loss: ', train_scores[0])\n",
    "print('Test loss: ', train_scores[1])"
   ]
  },
  {
   "cell_type": "code",
   "execution_count": 35,
   "id": "ac16bf40",
   "metadata": {},
   "outputs": [
    {
     "name": "stdout",
     "output_type": "stream",
     "text": [
      "12/12 [==============================] - 1s 72ms/step - loss: 0.0348 - accuracy: 0.9843\n",
      "Test loss:  0.0347885899245739\n",
      "Test accuracy:  0.9842519760131836\n"
     ]
    }
   ],
   "source": [
    "test_scores = reloaded_model.evaluate(X_test, y_test)\n",
    "print('Test loss: ', test_scores[0])\n",
    "print('Test accuracy: ', test_scores[1])"
   ]
  },
  {
   "cell_type": "code",
   "execution_count": null,
   "id": "a98e1ef7",
   "metadata": {},
   "outputs": [],
   "source": []
  }
 ],
 "metadata": {
  "kernelspec": {
   "display_name": "Python 3 (ipykernel)",
   "language": "python",
   "name": "python3"
  },
  "language_info": {
   "codemirror_mode": {
    "name": "ipython",
    "version": 3
   },
   "file_extension": ".py",
   "mimetype": "text/x-python",
   "name": "python",
   "nbconvert_exporter": "python",
   "pygments_lexer": "ipython3",
   "version": "3.9.7"
  }
 },
 "nbformat": 4,
 "nbformat_minor": 5
}
